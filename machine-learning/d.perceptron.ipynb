{
 "cells": [
  {
   "cell_type": "code",
   "execution_count": 1,
   "metadata": {},
   "outputs": [],
   "source": [
    "import numpy as np\n",
    "import pandas as pd\n",
    "import matplotlib.pyplot as plt\n",
    "\n",
    "from sklearn.datasets import load_iris\n",
    "# from sklearn.nn import MLPRegressor # multi linear progressor"
   ]
  },
  {
   "cell_type": "code",
   "execution_count": 16,
   "metadata": {},
   "outputs": [
    {
     "name": "stdout",
     "output_type": "stream",
     "text": [
      "[0 1 2] ['setosa' 'versicolor' 'virginica']\n"
     ]
    },
    {
     "data": {
      "text/plain": [
       "array([-1, -1, -1, -1, -1, -1, -1, -1, -1, -1, -1, -1, -1, -1, -1, -1, -1,\n",
       "       -1, -1, -1, -1, -1, -1, -1, -1, -1, -1, -1, -1, -1, -1, -1, -1, -1,\n",
       "       -1, -1, -1, -1, -1, -1, -1, -1, -1, -1, -1, -1, -1, -1, -1, -1,  1,\n",
       "        1,  1,  1,  1,  1,  1,  1,  1,  1,  1,  1,  1,  1,  1,  1,  1,  1,\n",
       "        1,  1,  1,  1,  1,  1,  1,  1,  1,  1,  1,  1,  1,  1,  1,  1,  1,\n",
       "        1,  1,  1,  1,  1,  1,  1,  1,  1,  1,  1,  1,  1,  1,  1])"
      ]
     },
     "execution_count": 16,
     "metadata": {},
     "output_type": "execute_result"
    }
   ],
   "source": [
    "# 데이터 준비\n",
    "\n",
    "iris = load_iris()\n",
    "print(np.unique(iris['target']), iris['target_names']) # 세 종류의 데이터\n",
    "pd.DataFrame(iris['data'], columns=iris['feature_names']).tail()\n",
    "\n",
    "X = iris['data'][:100, :] # 두 종류의 데이터만 추출\n",
    "y = iris['target'][:100] # 0 or 1\n",
    "y = np.where(y == 0, -1, 1) # y가 0이라면 -1 아니라면 1 # [0 or 1] -> [-1 or 1]"
   ]
  },
  {
   "cell_type": "code",
   "execution_count": 24,
   "metadata": {},
   "outputs": [],
   "source": [
    "# 알고리즘 구현\n",
    "\n",
    "def net_input(X, w):\n",
    "    result = np.dot(X, w[1:]) # x와 w 곱하기 # w[0] : bias(절편) -> 절편으로 직선 그래프 움직이기 \n",
    "    return result\n",
    "\n",
    "def predict(X, w):\n",
    "    input = net_input(X,w)\n",
    "    return np.where(input >= 0, 1, -1) # 그렇다면 1 아니라면 -1 # activation\n",
    "\n",
    "def fit(X, y, eta, n_iter): # eta : learning-rate (오차 적용비율, 가중치 조정비율)\n",
    "    w = np.zeros(X.shape[1] + 1)  # 전체 가중치 개수 : 속성 개수(컬럼 개수) + 1(1은 절편값(bias) 때문에) \n",
    "    \n",
    "    errors = [] # 밑의 반복문의 에러 개수 찾기\n",
    "    \n",
    "    for _ in range(n_iter): # 반복 학습 몇 번 할 지! -> w1x1+...+wnxn # 반복만 하면 되서 임시변수 _ 로 넣는다 # 만약 밑의 작업이 100번이 되었다고 하고 이 작업을 10번 반복이라고 했다면,  총 1000개이다.\n",
    "        error = 0\n",
    "        for xi, yi in zip(X, y): # X,y로부터 한 행의 데이터 꺼내기(한 건)\n",
    "            pv = predict(xi, w)\n",
    "            update = eta * (yi - pv) # 값은 하나인데 xi곱하면 여러개가 되어서\n",
    "            w[1:] += update * xi # 원래 식이 eta(yi-pv)xi라서 # update 계속 추가\n",
    "            w[0] += update # update만\n",
    "            error += int(update != 0 ) #오류의 개수를 누적 # (update != 0) # update가 0이 아닌 것은 오차가 있다. -> yi와 pv가 다른지 보는 것\n",
    "        errors.append(error)\n",
    "        \n",
    "    return w, errors \n",
    "   "
   ]
  },
  {
   "cell_type": "code",
   "execution_count": 31,
   "metadata": {},
   "outputs": [
    {
     "name": "stdout",
     "output_type": "stream",
     "text": [
      "10\n",
      "[-0.2  -0.26 -0.82  1.04  0.44]\n",
      "[2, 2, 1, 0, 0, 0, 0, 0, 0, 0]\n"
     ]
    }
   ],
   "source": [
    "w, errors = fit(X,y, eta=0.1, n_iter=10) # 학습률 10%씩 반영 -> 조금씩 조정하겠다. # 10번 반복 \n",
    "\n",
    "print(w)\n",
    "print(errors)"
   ]
  },
  {
   "cell_type": "code",
   "execution_count": 28,
   "metadata": {},
   "outputs": [
    {
     "data": {
      "image/png": "[encoded data removed]",
      "text/plain": [
       "<Figure size 432x288 with 1 Axes>"
      ]
     },
     "metadata": {
      "needs_background": "light"
     },
     "output_type": "display_data"
    }
   ],
   "source": [
    "plt.plot(range(1, len(errors) + 1), errors, marker='o') # 0부터 간 게 아니라 1부터 가서 1 더하기\n",
    "plt.show()"
   ]
  },
  {
   "cell_type": "code",
   "execution_count": 30,
   "metadata": {},
   "outputs": [
    {
     "data": {
      "image/png": "[encoded data removed]",
      "text/plain": [
       "<Figure size 432x288 with 1 Axes>"
      ]
     },
     "metadata": {
      "needs_background": "light"
     },
     "output_type": "display_data"
    }
   ],
   "source": [
    "plt.scatter(X[:50, 0], X[:50, 1],color ='red', marker='o', label=iris['target_names'][0]) # 네 가지 속성 중 0번째, 1번째 속성 #?\n",
    "plt.scatter(X[50:, 0], X[50:, 1],color ='blue', marker='x', label=iris['target_names'][1])\n",
    "plt.legend()\n",
    "plt.show()"
   ]
  },
  {
   "cell_type": "code",
   "execution_count": null,
   "metadata": {},
   "outputs": [],
   "source": []
  }
 ],
 "metadata": {
  "kernelspec": {
   "display_name": "Python 3",
   "language": "python",
   "name": "python3"
  },
  "language_info": {
   "codemirror_mode": {
    "name": "ipython",
    "version": 3
   },
   "file_extension": ".py",
   "mimetype": "text/x-python",
   "name": "python",
   "nbconvert_exporter": "python",
   "pygments_lexer": "ipython3",
   "version": "3.6.10"
  }
 },
 "nbformat": 4,
 "nbformat_minor": 4
}

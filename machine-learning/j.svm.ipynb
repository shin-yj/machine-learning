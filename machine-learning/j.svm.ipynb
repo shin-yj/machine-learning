{
 "cells": [
  {
   "cell_type": "code",
   "execution_count": 22,
   "metadata": {},
   "outputs": [],
   "source": [
    "from sklearn.datasets import load_breast_cancer\n",
    "from sklearn.model_selection import train_test_split\n",
    "from sklearn.preprocessing import MinMaxScaler\n",
    "from sklearn.svm import SVC # support vector classifier"
   ]
  },
  {
   "cell_type": "code",
   "execution_count": 2,
   "metadata": {},
   "outputs": [],
   "source": [
    "cancer = load_breast_cancer()\n",
    "X, y = cancer['data'], cancer['target']\n",
    "X_train, X_test, y_train, y_test = train_test_split(X, y, stratify=y, random_state=42)"
   ]
  },
  {
   "cell_type": "code",
   "execution_count": 6,
   "metadata": {},
   "outputs": [
    {
     "data": {
      "text/plain": [
       "(0.9436619718309859, 0.9440559440559441)"
      ]
     },
     "execution_count": 6,
     "metadata": {},
     "output_type": "execute_result"
    }
   ],
   "source": [
    "svc = SVC(C=100) # 기존에 0.95였으므로 과소적합이라 C를 올림\n",
    "svc.fit(X_train, y_train)\n",
    "svc.score(X_train, y_train), svc.score(X_test, y_test)"
   ]
  },
  {
   "cell_type": "code",
   "execution_count": 13,
   "metadata": {},
   "outputs": [
    {
     "data": {
      "text/plain": [
       "(0.9483568075117371, 0.9370629370629371)"
      ]
     },
     "execution_count": 13,
     "metadata": {},
     "output_type": "execute_result"
    }
   ],
   "source": [
    "svc = SVC(kernel='rbf', gamma=0.0001) # default : rbf, gamma=가우시안 폭 정리 , 10일땐 과대적합\n",
    "svc.fit(X_train, y_train)\n",
    "svc.score(X_train, y_train), svc.score(X_test, y_test)"
   ]
  },
  {
   "cell_type": "code",
   "execution_count": 21,
   "metadata": {},
   "outputs": [
    {
     "data": {
      "text/plain": [
       "(0.9084507042253521, 0.916083916083916)"
      ]
     },
     "execution_count": 21,
     "metadata": {},
     "output_type": "execute_result"
    }
   ],
   "source": [
    "svc = SVC(kernel='poly', degree=3) # default : degree=3 # degree로는 개선의 여지가 없다\n",
    "svc.fit(X_train, y_train)\n",
    "svc.score(X_train, y_train), svc.score(X_test, y_test)"
   ]
  },
  {
   "cell_type": "code",
   "execution_count": 23,
   "metadata": {},
   "outputs": [],
   "source": [
    "mms = MinMaxScaler()\n",
    "mms.fit(X_train)\n",
    "X_train_scaled, X_test_scaled = mms.transform(X_train), mms.transform(X_test)"
   ]
  },
  {
   "cell_type": "code",
   "execution_count": 58,
   "metadata": {},
   "outputs": [
    {
     "data": {
      "text/plain": [
       "(0.9859154929577465, 0.9790209790209791)"
      ]
     },
     "execution_count": 58,
     "metadata": {},
     "output_type": "execute_result"
    }
   ],
   "source": [
    "# svc = SVC(probability=True)\n",
    "# svc = SVC(C=10,probability=True)\n",
    "# svc= SVC(kernel='rbf', gamma=1,probability=True) # 1에 최적화\n",
    "svc= SVC(kernel='poly', degree=3, probability=True) # false가 default, predict_proba하기 위해서\n",
    "svc.fit(X_train_scaled, y_train)\n",
    "svc.score(X_train_scaled, y_train), svc.score(X_test_scaled, y_test) # 속성만 바꿔도 많이 올라간다."
   ]
  },
  {
   "cell_type": "code",
   "execution_count": null,
   "metadata": {},
   "outputs": [],
   "source": []
  },
  {
   "cell_type": "code",
   "execution_count": 67,
   "metadata": {},
   "outputs": [
    {
     "name": "stdout",
     "output_type": "stream",
     "text": [
      "[0]\n",
      "[-4.08630613e+08]\n",
      "[[9.9999990e-01 1.0000001e-07]]\n"
     ]
    }
   ],
   "source": [
    "# print(X_test[1])\n",
    "print(svc.predict([X_test[1]])) # 설명변수는 2차원 배열을 요구하므로 항상 이차원 배열로 넣어야 한다. 만약 X_test[:3]이면 []없이 그대로 넣으면된다.\n",
    "print(svc.decision_function([X_test[1]])) # 0보다 작으므로 0으로 분류 (0 or 1로 분류)\n",
    "print(svc.predict_proba([X_test[1]])) # 확률 0.999, 0.00001"
   ]
  },
  {
   "cell_type": "code",
   "execution_count": null,
   "metadata": {},
   "outputs": [],
   "source": []
  },
  {
   "cell_type": "code",
   "execution_count": null,
   "metadata": {},
   "outputs": [],
   "source": []
  },
  {
   "cell_type": "code",
   "execution_count": null,
   "metadata": {},
   "outputs": [],
   "source": []
  },
  {
   "cell_type": "code",
   "execution_count": null,
   "metadata": {},
   "outputs": [],
   "source": []
  }
 ],
 "metadata": {
  "kernelspec": {
   "display_name": "Python 3.6.10 64-bit ('hoseo': conda)",
   "language": "python",
   "name": "python361064bithoseoconda78849c8c42504bfc91e9e5131e728d2c"
  },
  "language_info": {
   "codemirror_mode": {
    "name": "ipython",
    "version": 3
   },
   "file_extension": ".py",
   "mimetype": "text/x-python",
   "name": "python",
   "nbconvert_exporter": "python",
   "pygments_lexer": "ipython3",
   "version": "3.6.10"
  }
 },
 "nbformat": 4,
 "nbformat_minor": 4
}

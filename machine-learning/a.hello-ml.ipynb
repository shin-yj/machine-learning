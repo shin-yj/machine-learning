{
 "cells": [
  {
   "cell_type": "code",
   "execution_count": 3,
   "metadata": {},
   "outputs": [],
   "source": [
    "# 패키지 설치\n",
    "# !pip install scikit-learn\n",
    "# !pip install mglearn"
   ]
  },
  {
   "cell_type": "code",
   "execution_count": 4,
   "metadata": {},
   "outputs": [],
   "source": [
    "import numpy as np\n",
    "import pandas as pd\n",
    "import matplotlib.pyplot as plt\n",
    "from sklearn.datasets import load_iris"
   ]
  },
  {
   "cell_type": "code",
   "execution_count": 6,
   "metadata": {},
   "outputs": [],
   "source": [
    "iris = load_iris()"
   ]
  },
  {
   "cell_type": "code",
   "execution_count": 28,
   "metadata": {},
   "outputs": [],
   "source": [
    "# print(type(iris)) # bunch -> dictionary처럼 되어있음\n",
    "# iris['data'][:5] # features (설명변수)\n",
    "# iris['feature_names'] # 설명변수 데이터 이름\n",
    "# iris['target'][[0, 50, 100]] # label (목적변수) -> 50개 0, 50개는 1, 50개는 2\n",
    "# iris['target_names'] # 목적변수 데이터 이름\n",
    "# iris['DESCR'] # iris 데이터 설명(describe)"
   ]
  },
  {
   "cell_type": "code",
   "execution_count": 29,
   "metadata": {},
   "outputs": [],
   "source": [
    "from sklearn.model_selection import train_test_split"
   ]
  },
  {
   "cell_type": "code",
   "execution_count": 34,
   "metadata": {},
   "outputs": [],
   "source": [
    "# 훈련 데이터 / 테스트 데이터를 분할\n",
    "X_train, X_test, y_train, y_test = train_test_split(iris['data'],iris['target'], random_state=100)# x는 설명변수, y값은 0,1,2(정답) -> x로 y값을 찾아냄\n",
    "# random하게 뽑음 -> 연구자가 일관된 숫자여야 연구할 수 있음 -> random_state로 값 고정시킴"
   ]
  },
  {
   "cell_type": "code",
   "execution_count": 41,
   "metadata": {},
   "outputs": [
    {
     "data": {
      "text/plain": [
       "((112, 4), (38, 4), (112,), (38,))"
      ]
     },
     "execution_count": 41,
     "metadata": {},
     "output_type": "execute_result"
    }
   ],
   "source": [
    "X_train.shape, X_test.shape, y_train.shape, y_test.shape"
   ]
  },
  {
   "cell_type": "code",
   "execution_count": 43,
   "metadata": {},
   "outputs": [],
   "source": [
    "from sklearn.neighbors import KNeighborsClassifier"
   ]
  },
  {
   "cell_type": "code",
   "execution_count": 47,
   "metadata": {},
   "outputs": [
    {
     "data": {
      "text/plain": [
       "KNeighborsClassifier()"
      ]
     },
     "execution_count": 47,
     "metadata": {},
     "output_type": "execute_result"
    }
   ],
   "source": [
    "knn = KNeighborsClassifier() # 알고리즘이 적용된 예측기\n",
    "knn.fit(X_train, y_train) # 모델 훈련(학습) # fit -> 훈련시킨다 -> 데이터 패턴을 찾아내라"
   ]
  },
  {
   "cell_type": "code",
   "execution_count": 54,
   "metadata": {},
   "outputs": [
    {
     "name": "stdout",
     "output_type": "stream",
     "text": [
      "[2 0 2 0 2]\n",
      "['virginica' 'setosa' 'virginica' 'setosa' 'virginica']\n"
     ]
    }
   ],
   "source": [
    "predicted_y = knn.predict(X_test) # 테스트 데이터로 예측을 해봐라!\n",
    "print(predicted_y[:5])\n",
    "print(iris['target_names'][predicted_y[:5]]) # 예측한 것이 무엇인지! # 이름은 어떤건지!"
   ]
  },
  {
   "cell_type": "code",
   "execution_count": 61,
   "metadata": {},
   "outputs": [
    {
     "data": {
      "text/plain": [
       "0.9736842105263158"
      ]
     },
     "execution_count": 61,
     "metadata": {},
     "output_type": "execute_result"
    }
   ],
   "source": [
    "# predicted_y[:5], y_test[:5] # 예측한 것과 정답\n",
    "(predicted_y == y_test).sum() / len(y_test) # 얼마나 맞는지, test Accuracy -> 97.4% 맞춘당"
   ]
  },
  {
   "cell_type": "code",
   "execution_count": 62,
   "metadata": {},
   "outputs": [
    {
     "data": {
      "text/plain": [
       "0.9821428571428571"
      ]
     },
     "execution_count": 62,
     "metadata": {},
     "output_type": "execute_result"
    }
   ],
   "source": [
    "predicted_y2 = knn.predict(X_train) # 훈련 데이터로 예측\n",
    "(predicted_y2 == y_train).sum() / len(y_train) # train accuracy -> test accuracy와 차이가 거의 없어 과적합/과소적합의 문제는 없다."
   ]
  },
  {
   "cell_type": "code",
   "execution_count": null,
   "metadata": {},
   "outputs": [],
   "source": []
  },
  {
   "cell_type": "code",
   "execution_count": 145,
   "metadata": {},
   "outputs": [
    {
     "name": "stderr",
     "output_type": "stream",
     "text": [
      "c:\\programdata\\miniconda3\\envs\\hoseo\\lib\\site-packages\\sklearn\\utils\\deprecation.py:86: FutureWarning: Function make_blobs is deprecated; Please import make_blobs directly from scikit-learn\n",
      "  warnings.warn(msg, category=FutureWarning)\n"
     ]
    },
    {
     "data": {
      "text/plain": [
       "(0.9473684210526315, 0.8571428571428571)"
      ]
     },
     "execution_count": 145,
     "metadata": {},
     "output_type": "execute_result"
    }
   ],
   "source": [
    "# mglearn.datasets 패키지의 make_forge 함수가 변환하는 데이터셋으로 knn 모델 테스트\n",
    "import numpy as np\n",
    "import pandas as pd\n",
    "import matplotlib.pyplot as plt\n",
    "from sklearn.model_selection import train_test_split\n",
    "from sklearn.neighbors import KNeighborsClassifier\n",
    "from mglearn.datasets import make_forge\n",
    "\n",
    "# 1. 데이터 로딩 -> Y=f(x)의 f를 x로 찾겠다\n",
    "X,y = make_forge()\n",
    "# X.shape # 26행 2열 데이터, 컬럼 두 개로(두 개의 속성) 되어있다\n",
    "\n",
    "# 2. 훈련 / 테스트 분할\n",
    "X_train, X_test, y_train, y_test = train_test_split(X, y, random_state=42)\n",
    "\n",
    "# 3. 모델 생성\n",
    "KNeighborsClassifier(n_neighbors=3) # 이웃 개수, 안줘도 된다\n",
    "\n",
    "# 4. 훈련 데이터로 모델 훈련\n",
    "knn.fit(X_train, y_train) # x_train으로 y_train(정답)이 나오는 거야! 패턴을 찾아내!\n",
    "# 5. 훈련 데이터로 예측, 정확도 평가\n",
    "predicted_train_y = knn.predict(X_train) # 이제 정답은 안주고 문제만 줌 -> y를 찾아냄\n",
    "train_accuracy = (predicted_train_y == y_train).sum() / len(y_train)\n",
    "\n",
    "# 6. 테스트 데이터로 예측, 정확도 평가\n",
    "predicted_test_y = knn.predict(X_test)\n",
    "test_accuracy = (predicted_test_y==y_test).sum() / len(y_test)\n",
    "\n",
    "train_accuracy, test_accuracy # 과대적합 상황일 수도 있다 -> 조절을 하긴 해야 한다!"
   ]
  },
  {
   "cell_type": "code",
   "execution_count": null,
   "metadata": {},
   "outputs": [],
   "source": []
  }
 ],
 "metadata": {
  "kernelspec": {
   "display_name": "Python 3",
   "language": "python",
   "name": "python3"
  },
  "language_info": {
   "codemirror_mode": {
    "name": "ipython",
    "version": 3
   },
   "file_extension": ".py",
   "mimetype": "text/x-python",
   "name": "python",
   "nbconvert_exporter": "python",
   "pygments_lexer": "ipython3",
   "version": "3.6.10"
  }
 },
 "nbformat": 4,
 "nbformat_minor": 4
}

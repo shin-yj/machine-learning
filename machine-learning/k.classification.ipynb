{
 "cells": [
  {
   "cell_type": "code",
   "execution_count": 2,
   "metadata": {},
   "outputs": [],
   "source": [
    "import numpy as np\n",
    "from sklearn.datasets import load_iris"
   ]
  },
  {
   "cell_type": "code",
   "execution_count": 7,
   "metadata": {},
   "outputs": [
    {
     "name": "stdout",
     "output_type": "stream",
     "text": [
      "[0 1 2]\n"
     ]
    }
   ],
   "source": [
    "iris = load_iris()\n",
    "print(np.unique(iris.target))\n",
    "X, y = iris['data'], iris['target']  # 0 1 2중 하나 선택"
   ]
  },
  {
   "cell_type": "code",
   "execution_count": 8,
   "metadata": {},
   "outputs": [],
   "source": [
    "from sklearn.svm import SVC"
   ]
  },
  {
   "cell_type": "code",
   "execution_count": 11,
   "metadata": {},
   "outputs": [
    {
     "data": {
      "text/plain": [
       "0.9733333333333334"
      ]
     },
     "execution_count": 11,
     "metadata": {},
     "output_type": "execute_result"
    }
   ],
   "source": [
    "svc = SVC(probability=True)\n",
    "svc.fit(X, y)\n",
    "svc.score(X, y) # 97%"
   ]
  },
  {
   "cell_type": "code",
   "execution_count": 13,
   "metadata": {},
   "outputs": [
    {
     "name": "stdout",
     "output_type": "stream",
     "text": [
      "[0]\n",
      "[[0.97764236 0.01421891 0.00813872]]\n",
      "[[ 2.23543749  1.16096255 -0.25650709]]\n"
     ]
    }
   ],
   "source": [
    "print(svc.predict([X[0]])) # X[0]를 넣었을 때 y값(target)0,1,2중 무엇인가! # predict_proba, decision_function을 다 해서 이미 나온것 # 아래는 그냥 확인차 해본 것. predict는 이 두 가지를 거쳐서 나오게 된다\n",
    "print(svc.predict_proba([X[0]])) # 0일 확률, 1일 확률, 2일 확률  -> 0이 높아서 0으로 나온다. 어떤 값을 어떤 수준으로 확인하고 있음\n",
    "print(svc.decision_function([X[0]])) # data에 따라 가중치 값이 다르게 나옴 -> 값이 중요하지 않고(판단하는 기준값) 값의 크기가 높은 것이 나옴. 여기선 0"
   ]
  },
  {
   "cell_type": "code",
   "execution_count": 20,
   "metadata": {},
   "outputs": [
    {
     "data": {
      "text/plain": [
       "0.9733333333333334"
      ]
     },
     "execution_count": 20,
     "metadata": {},
     "output_type": "execute_result"
    }
   ],
   "source": [
    "v=svc.decision_function(X) # 각 행마다 0,1,2에 대해 어떻게 판단했는지\n",
    "m = np.argmax(v, axis=1) # 각 행에서 가장 큰 값의 위치를 반환\n",
    "(y == m).sum()/len(m)"
   ]
  },
  {
   "cell_type": "code",
   "execution_count": 28,
   "metadata": {},
   "outputs": [
    {
     "data": {
      "text/plain": [
       "0.98"
      ]
     },
     "execution_count": 28,
     "metadata": {},
     "output_type": "execute_result"
    }
   ],
   "source": [
    "v2=svc.predict_proba(X)\n",
    "# print(np.sum(v2, axis=1)) # 개별 값은 확률이기 때문에 각 행의 합은 1 (확률이라서)\n",
    "m2 = np.argmax(v2, axis=1)\n",
    "(y == m2).sum()/len(y)"
   ]
  },
  {
   "cell_type": "code",
   "execution_count": 31,
   "metadata": {},
   "outputs": [
    {
     "data": {
      "text/plain": [
       "array([5.1, 3.5, 1.4, 0.2])"
      ]
     },
     "execution_count": 31,
     "metadata": {},
     "output_type": "execute_result"
    }
   ],
   "source": [
    "X[0]"
   ]
  },
  {
   "cell_type": "code",
   "execution_count": null,
   "metadata": {},
   "outputs": [],
   "source": [
    "m2 ==svc.predict(X) # decision_function이 하는것"
   ]
  }
 ],
 "metadata": {
  "kernelspec": {
   "display_name": "Python 3",
   "language": "python",
   "name": "python3"
  },
  "language_info": {
   "codemirror_mode": {
    "name": "ipython",
    "version": 3
   },
   "file_extension": ".py",
   "mimetype": "text/x-python",
   "name": "python",
   "nbconvert_exporter": "python",
   "pygments_lexer": "ipython3",
   "version": "3.6.10"
  }
 },
 "nbformat": 4,
 "nbformat_minor": 4
}

{
 "cells": [
  {
   "cell_type": "code",
   "execution_count": 1,
   "metadata": {},
   "outputs": [],
   "source": [
    "import numpy as np\n",
    "import matplotlib.pyplot as plt\n",
    "from sklearn.datasets import load_digits\n",
    "from sklearn.model_selection import train_test_split"
   ]
  },
  {
   "cell_type": "code",
   "execution_count": 2,
   "metadata": {},
   "outputs": [],
   "source": [
    "digits = load_digits()"
   ]
  },
  {
   "cell_type": "code",
   "execution_count": 3,
   "metadata": {},
   "outputs": [
    {
     "name": "stdout",
     "output_type": "stream",
     "text": [
      "(1797, 64)\n",
      " label : 0\n"
     ]
    },
    {
     "data": {
      "image/png": "[encoded data removed]",
      "text/plain": [
       "<Figure size 432x288 with 1 Axes>"
      ]
     },
     "metadata": {
      "needs_background": "light"
     },
     "output_type": "display_data"
    }
   ],
   "source": [
    "print(digits['data'].shape) # 1797장의 이미지 ( 8pixel x 8pixel 사이즈)\n",
    "print(\" label :\", digits['target'][0])\n",
    "plt.imshow(digits['data'][1].reshape(8, 8)) # 가로 8 세로 8, 각 원소들은 픽셀의 색상을 나타낸다.\n",
    "plt.show()"
   ]
  },
  {
   "cell_type": "code",
   "execution_count": 4,
   "metadata": {},
   "outputs": [
    {
     "data": {
      "text/plain": [
       "(array([0, 1, 2, 3, 4, 5, 6, 7, 8, 9]),\n",
       " array([178, 182, 177, 183, 181, 182, 181, 179, 174, 180], dtype=int64))"
      ]
     },
     "execution_count": 4,
     "metadata": {},
     "output_type": "execute_result"
    }
   ],
   "source": [
    "np.unique(digits['target'], return_counts=True) # 0~9사이의 숫자가 얼마나 들어가있는지"
   ]
  },
  {
   "cell_type": "code",
   "execution_count": 5,
   "metadata": {},
   "outputs": [],
   "source": [
    "from sklearn.model_selection import train_test_split\n",
    "\n",
    "X, y = digits['data'], digits['target'] == 9 # y값은 9인지 확인 \n",
    "X_train, X_test, y_train, y_test = train_test_split(X, y, stratify=y, random_state=42)"
   ]
  },
  {
   "cell_type": "code",
   "execution_count": 6,
   "metadata": {},
   "outputs": [
    {
     "name": "stdout",
     "output_type": "stream",
     "text": [
      "(1797,)\n",
      "1797\n"
     ]
    },
    {
     "data": {
      "text/plain": [
       "(array([False,  True]), array([1617,  180], dtype=int64))"
      ]
     },
     "execution_count": 6,
     "metadata": {},
     "output_type": "execute_result"
    }
   ],
   "source": [
    "print(digits['target'].shape) # 1차원\n",
    "print(len(y))\n",
    "np.unique(y, return_counts=True) # 데이터 비율 9(9가 아닌 확률):1 (9일 확률) -> 목적변수가 공평하지 않고 한 쪽으로 기운 불균형 데이터셋의 경우 분류를 할 때 accuracy를 기준으로 하면 안된다. 신뢰하면 안된다. -> 90%가 False이므로 accuracy가 높게 나올 수 있다."
   ]
  },
  {
   "cell_type": "code",
   "execution_count": 7,
   "metadata": {},
   "outputs": [
    {
     "data": {
      "text/plain": [
       "array([ 0.,  0.,  0., 12., 13.,  5.,  0.,  0.,  0.,  0.,  0., 11., 16.,\n",
       "        9.,  0.,  0.,  0.,  0.,  3., 15., 16.,  6.,  0.,  0.,  0.,  7.,\n",
       "       15., 16., 16.,  2.,  0.,  0.,  0.,  0.,  1., 16., 16.,  3.,  0.,\n",
       "        0.,  0.,  0.,  1., 16., 16.,  6.,  0.,  0.,  0.,  0.,  1., 16.,\n",
       "       16.,  6.,  0.,  0.,  0.,  0.,  0., 11., 16., 10.,  0.,  0.])"
      ]
     },
     "execution_count": 7,
     "metadata": {},
     "output_type": "execute_result"
    }
   ],
   "source": [
    "digits['data'][1] # 각 픽셀의 색상을 나타냄"
   ]
  },
  {
   "cell_type": "code",
   "execution_count": 8,
   "metadata": {},
   "outputs": [
    {
     "data": {
      "text/plain": [
       "0.9"
      ]
     },
     "execution_count": 8,
     "metadata": {},
     "output_type": "execute_result"
    }
   ],
   "source": [
    "from sklearn.dummy import DummyClassifier\n",
    "dc = DummyClassifier(strategy='most_frequent') # 가장 빈도가 높은것으로\n",
    "dc.fit(X_train, y_train)\n",
    "dc.score(X_test, y_test) # 89%의 정확도"
   ]
  },
  {
   "cell_type": "code",
   "execution_count": 9,
   "metadata": {},
   "outputs": [
    {
     "data": {
      "text/plain": [
       "0.9777777777777777"
      ]
     },
     "execution_count": 9,
     "metadata": {},
     "output_type": "execute_result"
    }
   ],
   "source": [
    "from sklearn.linear_model import LogisticRegression\n",
    "\n",
    "lr = LogisticRegression(max_iter=1000)\n",
    "lr.fit(X_train, y_train)\n",
    "lr.score(X_test, y_test)"
   ]
  },
  {
   "cell_type": "code",
   "execution_count": 10,
   "metadata": {},
   "outputs": [
    {
     "data": {
      "text/plain": [
       "0.9311111111111111"
      ]
     },
     "execution_count": 10,
     "metadata": {},
     "output_type": "execute_result"
    }
   ],
   "source": [
    "from sklearn.tree import DecisionTreeClassifier\n",
    "\n",
    "tree = DecisionTreeClassifier(max_depth=4)\n",
    "tree.fit(X_train, y_train)\n",
    "tree.score(X_test, y_test)"
   ]
  },
  {
   "cell_type": "code",
   "execution_count": 11,
   "metadata": {},
   "outputs": [
    {
     "name": "stdout",
     "output_type": "stream",
     "text": [
      "[[405   0]\n",
      " [ 45   0]]\n",
      "[[394  11]\n",
      " [ 20  25]]\n",
      "[[400   5]\n",
      " [  5  40]]\n"
     ]
    }
   ],
   "source": [
    "from sklearn.metrics import confusion_matrix\n",
    "\n",
    "print(confusion_matrix(y_test, dc.predict(X_test)))\n",
    "print(confusion_matrix(y_test, tree.predict(X_test)))\n",
    "print(confusion_matrix(y_test, lr.predict(X_test)))"
   ]
  },
  {
   "cell_type": "code",
   "execution_count": 12,
   "metadata": {},
   "outputs": [
    {
     "name": "stdout",
     "output_type": "stream",
     "text": [
      "0.0\n",
      "0.5555555555555556\n",
      "0.8888888888888888\n",
      "--------------------\n",
      "0.0\n",
      "0.6944444444444444\n",
      "0.8888888888888888\n",
      "--------------------\n",
      "0.0\n",
      "0.6172839506172839\n",
      "0.8888888888888888\n"
     ]
    },
    {
     "name": "stderr",
     "output_type": "stream",
     "text": [
      "C:\\ProgramData\\Miniconda3\\envs\\hoseo\\lib\\site-packages\\sklearn\\metrics\\_classification.py:1221: UndefinedMetricWarning: Precision is ill-defined and being set to 0.0 due to no predicted samples. Use `zero_division` parameter to control this behavior.\n",
      "  _warn_prf(average, modifier, msg_start, len(result))\n"
     ]
    }
   ],
   "source": [
    "from sklearn.metrics import precision_score, recall_score, f1_score\n",
    "\n",
    "print(recall_score(y_test, dc.predict(X_test)))\n",
    "print(recall_score(y_test, tree.predict(X_test)))\n",
    "print(recall_score(y_test, lr.predict(X_test)))\n",
    "print(\"-\"*20)\n",
    "print(precision_score(y_test, dc.predict(X_test)))\n",
    "print(precision_score(y_test, tree.predict(X_test)))\n",
    "print(precision_score(y_test, lr.predict(X_test)))\n",
    "print(\"-\"*20)\n",
    "print(f1_score(y_test, dc.predict(X_test))) # 조화 평균\n",
    "print(f1_score(y_test, tree.predict(X_test)))\n",
    "print(f1_score(y_test, lr.predict(X_test)))"
   ]
  },
  {
   "cell_type": "code",
   "execution_count": 13,
   "metadata": {},
   "outputs": [
    {
     "name": "stdout",
     "output_type": "stream",
     "text": [
      "              precision    recall  f1-score   support\n",
      "\n",
      "       False       0.90      1.00      0.95       405\n",
      "        True       0.00      0.00      0.00        45\n",
      "\n",
      "    accuracy                           0.90       450\n",
      "   macro avg       0.45      0.50      0.47       450\n",
      "weighted avg       0.81      0.90      0.85       450\n",
      "\n",
      "              precision    recall  f1-score   support\n",
      "\n",
      "       False       0.95      0.97      0.96       405\n",
      "        True       0.69      0.56      0.62        45\n",
      "\n",
      "    accuracy                           0.93       450\n",
      "   macro avg       0.82      0.76      0.79       450\n",
      "weighted avg       0.93      0.93      0.93       450\n",
      "\n",
      "              precision    recall  f1-score   support\n",
      "\n",
      "       False       0.99      0.99      0.99       405\n",
      "        True       0.89      0.89      0.89        45\n",
      "\n",
      "    accuracy                           0.98       450\n",
      "   macro avg       0.94      0.94      0.94       450\n",
      "weighted avg       0.98      0.98      0.98       450\n",
      "\n"
     ]
    },
    {
     "name": "stderr",
     "output_type": "stream",
     "text": [
      "C:\\ProgramData\\Miniconda3\\envs\\hoseo\\lib\\site-packages\\sklearn\\metrics\\_classification.py:1221: UndefinedMetricWarning: Precision and F-score are ill-defined and being set to 0.0 in labels with no predicted samples. Use `zero_division` parameter to control this behavior.\n",
      "  _warn_prf(average, modifier, msg_start, len(result))\n"
     ]
    }
   ],
   "source": [
    "from sklearn.metrics import classification_report\n",
    "\n",
    "print(classification_report(y_test, dc.predict(X_test)))\n",
    "print(classification_report(y_test, tree.predict(X_test)))\n",
    "print(classification_report(y_test, lr.predict(X_test)))\n"
   ]
  },
  {
   "cell_type": "code",
   "execution_count": 14,
   "metadata": {},
   "outputs": [
    {
     "name": "stderr",
     "output_type": "stream",
     "text": [
      "C:\\ProgramData\\Miniconda3\\envs\\hoseo\\lib\\site-packages\\sklearn\\utils\\deprecation.py:86: FutureWarning: Function make_blobs is deprecated; Please import make_blobs directly from scikit-learn\n",
      "  warnings.warn(msg, category=FutureWarning)\n"
     ]
    }
   ],
   "source": [
    "import mglearn\n",
    "import matplotlib.pyplot as plt\n",
    "\n",
    "X, y = mglearn.datasets.make_blobs(n_samples=(400,50), centers=2, cluster_std=[7.0, 2], random_state=42) # n_samples= 이진분류 체계 데이터 달라는 것! (불균형 데이터 셋 만들기 위해)\n"
   ]
  },
  {
   "cell_type": "code",
   "execution_count": 15,
   "metadata": {},
   "outputs": [
    {
     "data": {
      "text/plain": [
       "(450, 2)"
      ]
     },
     "execution_count": 15,
     "metadata": {},
     "output_type": "execute_result"
    }
   ],
   "source": [
    "X.shape"
   ]
  },
  {
   "cell_type": "code",
   "execution_count": 16,
   "metadata": {},
   "outputs": [
    {
     "name": "stdout",
     "output_type": "stream",
     "text": [
      "(450, 2)\n",
      "[[ 9.23767508  1.24749256]\n",
      " [-2.47249173  9.34315028]\n",
      " [-3.61525291  6.02611864]\n",
      " [-0.85989572 14.41034249]\n",
      " [ 5.80773521  1.2545855 ]]\n",
      "(array([0, 1]), array([400,  50], dtype=int64))\n"
     ]
    }
   ],
   "source": [
    "print(X.shape)\n",
    "print(X[:5])\n",
    "print(np.unique(y, return_counts=True))"
   ]
  },
  {
   "cell_type": "code",
   "execution_count": 17,
   "metadata": {},
   "outputs": [
    {
     "name": "stdout",
     "output_type": "stream",
     "text": [
      "4\n",
      "[2 3 4]\n",
      "[1 4]\n",
      "[False False  True False  True]\n",
      "[3 5]\n"
     ]
    }
   ],
   "source": [
    "T = np.array([1,2,3,4,5])\n",
    "bi = np.array([0,0,1,0,1])\n",
    "print(T[3])\n",
    "print(T[1:4])\n",
    "print(T[[True, False, False, True, False]]) # true인 값만 뽑기\n",
    "print(bi == 1)\n",
    "print(T[bi==1])"
   ]
  },
  {
   "cell_type": "code",
   "execution_count": 18,
   "metadata": {},
   "outputs": [
    {
     "data": {
      "image/png": "[encoded data removed]",
      "text/plain": [
       "<Figure size 432x288 with 1 Axes>"
      ]
     },
     "metadata": {
      "needs_background": "light"
     },
     "output_type": "display_data"
    }
   ],
   "source": [
    "plt.scatter(X[y==0, 0], X[y==0,1], marker='^', color='red') # y==0인 것 열 0번째 뽑기, y==1인것 열 1번째 뽑기\n",
    "plt.scatter(X[y==1, 0], X[y==1,1], marker='v', color='blue')\n",
    "plt.show()"
   ]
  },
  {
   "cell_type": "code",
   "execution_count": 19,
   "metadata": {},
   "outputs": [],
   "source": [
    "X_train, X_test, y_train, y_test = train_test_split(X, y, stratify=y, random_state = 42)"
   ]
  },
  {
   "cell_type": "code",
   "execution_count": 20,
   "metadata": {},
   "outputs": [
    {
     "name": "stdout",
     "output_type": "stream",
     "text": [
      "              precision    recall  f1-score   support\n",
      "\n",
      "           0       0.97      0.95      0.96       100\n",
      "           1       0.67      0.77      0.71        13\n",
      "\n",
      "    accuracy                           0.93       113\n",
      "   macro avg       0.82      0.86      0.84       113\n",
      "weighted avg       0.93      0.93      0.93       113\n",
      "\n"
     ]
    }
   ],
   "source": [
    "from sklearn.svm import SVC\n",
    "\n",
    "svc = SVC()\n",
    "svc.fit(X_train, y_train)\n",
    "print(classification_report(y_test, svc.predict(X_test)))# 0을 기준 / 1을 기준으로 P,R -> 우리가 보는 것은 1을 기준"
   ]
  },
  {
   "cell_type": "code",
   "execution_count": null,
   "metadata": {},
   "outputs": [],
   "source": []
  },
  {
   "cell_type": "code",
   "execution_count": 21,
   "metadata": {},
   "outputs": [
    {
     "name": "stdout",
     "output_type": "stream",
     "text": [
      "              precision    recall  f1-score   support\n",
      "\n",
      "           0       1.00      0.89      0.94       100\n",
      "           1       0.54      1.00      0.70        13\n",
      "\n",
      "    accuracy                           0.90       113\n",
      "   macro avg       0.77      0.95      0.82       113\n",
      "weighted avg       0.95      0.90      0.91       113\n",
      "\n"
     ]
    }
   ],
   "source": [
    "y_pred = svc.decision_function(X_test) > -0.8 # 테스트 과정이라 임의 값 줌. -0.8보다 작으면 False, -0.8보다 크면 True 판단 # 임계치 밸런스 조정은 의사결정의 문제이다. \n",
    "print(classification_report(y_test, y_pred)) # recall지수가 전 에 뽑은 것 0.77에서 1로올라감, 대신 precision이 0.67에서 0.54로 내려김 -> TN,FN은 줄어들고 FP,TP는 늘어남 \n",
    "# TN FP\n",
    "# FN TP"
   ]
  },
  {
   "cell_type": "code",
   "execution_count": null,
   "metadata": {},
   "outputs": [],
   "source": []
  },
  {
   "cell_type": "code",
   "execution_count": 28,
   "metadata": {},
   "outputs": [
    {
     "name": "stderr",
     "output_type": "stream",
     "text": [
      "C:\\ProgramData\\Miniconda3\\envs\\hoseo\\lib\\site-packages\\sklearn\\utils\\deprecation.py:86: FutureWarning: Function make_blobs is deprecated; Please import make_blobs directly from scikit-learn\n",
      "  warnings.warn(msg, category=FutureWarning)\n",
      "No handles with labels found to put in legend.\n"
     ]
    },
    {
     "data": {
      "image/png": "[encoded data removed]",
      "text/plain": [
       "<Figure size 432x288 with 1 Axes>"
      ]
     },
     "metadata": {
      "needs_background": "light"
     },
     "output_type": "display_data"
    }
   ],
   "source": [
    "from sklearn.metrics import precision_recall_curve # P,R값 계산\n",
    "\n",
    "X, y = mglearn.datasets.make_blobs(n_samples=(4000,500), centers=2, cluster_std=[7.0, 2], random_state=42)\n",
    "\n",
    "X_train, X_test, y_train, y_test = train_test_split(X, y, stratify=y, random_state = 42)\n",
    "\n",
    "svc = SVC(probability=True)\n",
    "svc.fit(X_train, y_train)\n",
    "\n",
    "precision, recall, thresholds = precision_recall_curve(y_test, svc.decision_function(X_test)) # 임계치 조금씩 바꿀때마다 어떻게 변하는지 보겠다. 실제값,예측값\n",
    "\n",
    "idx = np.argmin(np.abs(thresholds))# 0에 근접한 임계값의 위치 찾기 -> 그냥 내버려둘 때 가장 최적인 점 # 동그라미 기준으로 오른쪽 : precision 얻기 위해 recall을 얼마나 줄여야하는지, 왼쪽: recall 올리기위해 precision 얼마나 내려야 하는지\n",
    "plt.plot(precision[idx], recall[idx], marker='o', mew=2, markersize=10, fillstyle='none') # 동그라미\n",
    "\n",
    "plt.plot(precision, recall) # 선\n",
    "plt.xlabel('precision')\n",
    "plt.ylabel('recall')\n",
    "plt.legend(loc='best')\n",
    "plt.show() # precision과 recall은 반비례 관계                                                 "
   ]
  },
  {
   "cell_type": "code",
   "execution_count": 29,
   "metadata": {},
   "outputs": [
    {
     "name": "stdout",
     "output_type": "stream",
     "text": [
      "0.8586666666666667\n",
      "0.9422222222222222\n",
      "**************************************************\n",
      "0.376266528731415\n",
      "0.7436313954850132\n"
     ]
    }
   ],
   "source": [
    "from sklearn.metrics import average_precision_score\n",
    "\n",
    "lr = LogisticRegression()\n",
    "lr.fit(X_train, y_train)\n",
    "\n",
    "print(lr.score(X_test, y_test)) # accuracy\n",
    "print(svc.score(X_test, y_test)) # accuracy\n",
    "print(\"*\" * 50)\n",
    "print(average_precision_score(y_test, lr.predict_proba(X_test)[:,1])) # lr은 아직 안만들어서 svc로만! # 평균정밀도\n",
    "print(average_precision_score(y_test, svc.predict_proba(X_test)[:,1])) # 평균정밀도"
   ]
  },
  {
   "cell_type": "code",
   "execution_count": 30,
   "metadata": {},
   "outputs": [
    {
     "data": {
      "text/plain": [
       "array([[9.57126674e-01, 4.28733258e-02],\n",
       "       [9.99696995e-01, 3.03004725e-04],\n",
       "       [9.99860806e-01, 1.39193790e-04],\n",
       "       ...,\n",
       "       [9.88590739e-01, 1.14092613e-02],\n",
       "       [9.99820390e-01, 1.79610077e-04],\n",
       "       [9.99517246e-01, 4.82753767e-04]])"
      ]
     },
     "execution_count": 30,
     "metadata": {},
     "output_type": "execute_result"
    }
   ],
   "source": [
    "svc.predict_proba(X_test) # 2차원 배열이므로 위에 1차열 배열로 가져온다"
   ]
  },
  {
   "cell_type": "code",
   "execution_count": 32,
   "metadata": {},
   "outputs": [
    {
     "name": "stderr",
     "output_type": "stream",
     "text": [
      "C:\\ProgramData\\Miniconda3\\envs\\hoseo\\lib\\site-packages\\sklearn\\utils\\deprecation.py:86: FutureWarning: Function make_blobs is deprecated; Please import make_blobs directly from scikit-learn\n",
      "  warnings.warn(msg, category=FutureWarning)\n",
      "No handles with labels found to put in legend.\n"
     ]
    },
    {
     "data": {
      "image/png": "[encoded data removed]",
      "text/plain": [
       "<Figure size 432x288 with 1 Axes>"
      ]
     },
     "metadata": {
      "needs_background": "light"
     },
     "output_type": "display_data"
    }
   ],
   "source": [
    "from sklearn.metrics import roc_curve\n",
    "\n",
    "X, y = mglearn.datasets.make_blobs(n_samples=(4000,500), centers=2, cluster_std=[7.0, 2], random_state=42)\n",
    "\n",
    "X_train, X_test, y_train, y_test = train_test_split(X, y, stratify=y, random_state = 42)\n",
    "\n",
    "svc = SVC(probability=True)\n",
    "svc.fit(X_train, y_train)\n",
    "\n",
    "fpr, tpr, thresholds = roc_curve(y_test, svc.decision_function(X_test)) # 임계치 조금씩 바꿀때마다 어떻게 변하는지 보겠다. 실제값,예측값\n",
    "\n",
    "idx = np.argmin(np.abs(thresholds)) # 0에 근접한 임계값 위치 찾기\n",
    "plt.plot(fpr[idx], tpr[idx], marker='o', mew=2, markersize=10, fillstyle='none') # 동그라미\n",
    "\n",
    "plt.plot(fpr, tpr) # 선\n",
    "plt.xlabel('fpr')\n",
    "plt.ylabel('tpr')\n",
    "plt.legend(loc='best')  # tpr, fpr은 같이 증가하는데 증가할 때 fpr 조금 증가하고 tpr 많이 증가하는 것이 최적점\n",
    "plt.show() # roc curve(거꾸로 됨) # auc는 밑쪽임 # 회귀에선 사용하지만 분류에선 사용하지 x                                            "
   ]
  },
  {
   "cell_type": "code",
   "execution_count": 33,
   "metadata": {},
   "outputs": [
    {
     "name": "stdout",
     "output_type": "stream",
     "text": [
      "0.8586666666666667\n",
      "0.9422222222222222\n",
      "**************************************************\n",
      "0.9096319999999999\n",
      "0.974588\n"
     ]
    }
   ],
   "source": [
    "from sklearn.metrics import roc_auc_score\n",
    "\n",
    "lr = LogisticRegression()\n",
    "lr.fit(X_train, y_train)\n",
    "\n",
    "print(lr.score(X_test, y_test)) # accuracy\n",
    "print(svc.score(X_test, y_test)) # accuracy\n",
    "print(\"*\" * 50)\n",
    "print(roc_auc_score(y_test, lr.predict_proba(X_test)[:,1])) # lr은 아직 안만들어서 svc로만! # 평균정밀도\n",
    "print(roc_auc_score(y_test, svc.predict_proba(X_test)[:,1])) # 평균정밀도"
   ]
  },
  {
   "cell_type": "code",
   "execution_count": null,
   "metadata": {},
   "outputs": [],
   "source": []
  },
  {
   "cell_type": "code",
   "execution_count": 34,
   "metadata": {},
   "outputs": [],
   "source": [
    "digits=load_digits()\n",
    "X, y = digits['data'], digits['target'] # y값은 9인지 확인 \n",
    "X_train, X_test, y_train, y_test = train_test_split(X, y, stratify=y, random_state=42)"
   ]
  },
  {
   "cell_type": "code",
   "execution_count": 35,
   "metadata": {},
   "outputs": [
    {
     "data": {
      "text/plain": [
       "array([0, 1, 2, 3, 4, 5, 6, 7, 8, 9])"
      ]
     },
     "execution_count": 35,
     "metadata": {},
     "output_type": "execute_result"
    }
   ],
   "source": [
    "np.unique(y)"
   ]
  },
  {
   "cell_type": "code",
   "execution_count": 39,
   "metadata": {},
   "outputs": [
    {
     "name": "stdout",
     "output_type": "stream",
     "text": [
      "0.9533333333333334\n"
     ]
    }
   ],
   "source": [
    "lr = LogisticRegression(max_iter=10000) # lr.score이 limit넘어가서 max_iter 줌\n",
    "lr.fit(X_train, y_train)\n",
    "print(lr.score(X_test, y_test))"
   ]
  },
  {
   "cell_type": "code",
   "execution_count": 41,
   "metadata": {},
   "outputs": [
    {
     "name": "stdout",
     "output_type": "stream",
     "text": [
      "              precision    recall  f1-score   support\n",
      "\n",
      "           0       1.00      0.98      0.99        45\n",
      "           1       0.91      0.89      0.90        46\n",
      "           2       1.00      0.98      0.99        44\n",
      "           3       0.98      1.00      0.99        46\n",
      "           4       0.96      1.00      0.98        45\n",
      "           5       0.96      0.98      0.97        46\n",
      "           6       0.98      0.98      0.98        45\n",
      "           7       0.96      0.98      0.97        45\n",
      "           8       0.82      0.84      0.83        43\n",
      "           9       0.98      0.91      0.94        45\n",
      "\n",
      "    accuracy                           0.95       450\n",
      "   macro avg       0.95      0.95      0.95       450\n",
      "weighted avg       0.95      0.95      0.95       450\n",
      "\n"
     ]
    }
   ],
   "source": [
    "print(classification_report(y_test, lr.predict(X_test))) # 0은 0과 0이 아닌 것을 분류, 1은 1인것과 1이 아닌 것으로 분류..."
   ]
  },
  {
   "cell_type": "code",
   "execution_count": 47,
   "metadata": {},
   "outputs": [
    {
     "name": "stdout",
     "output_type": "stream",
     "text": [
      "0.9533309163774376\n",
      "0.9528544497385683\n",
      "0.9533333333333334\n"
     ]
    }
   ],
   "source": [
    "print(f1_score(y_test, lr.predict(X_test), average='weighted')) # weighted average\n",
    "print(f1_score(y_test, lr.predict(X_test), average='macro')) "
   ]
  },
  {
   "cell_type": "code",
   "execution_count": 49,
   "metadata": {},
   "outputs": [
    {
     "data": {
      "text/plain": [
       "array([[-2.54138491e+00,  7.50815825e+00, -7.06065440e+00, ...,\n",
       "         1.23157764e+00,  1.04937907e+01, -1.17000834e+01],\n",
       "       [ 1.58979819e+01, -1.37981447e+01,  3.66755792e+00, ...,\n",
       "         2.03597367e+00,  3.32638189e+00, -1.79139131e+00],\n",
       "       [ 2.15076491e+00, -1.11020080e+01,  5.43024204e-01, ...,\n",
       "        -2.78005271e+00,  8.00458528e+00,  1.52034255e+01],\n",
       "       ...,\n",
       "       [-4.25988453e-01, -8.80662603e+00,  2.02672837e+00, ...,\n",
       "         1.03932213e-02, -9.04742876e-01,  1.17031576e+01],\n",
       "       [-4.82218194e+00,  1.40254423e+01, -1.99779046e+01, ...,\n",
       "         1.36450808e+01, -9.24152827e-01, -2.20377581e+01],\n",
       "       [-8.79210979e-01, -4.75579139e-01, -4.79596727e+00, ...,\n",
       "        -3.05557253e-01,  1.35380062e+01, -1.47318381e+00]])"
      ]
     },
     "execution_count": 49,
     "metadata": {},
     "output_type": "execute_result"
    }
   ],
   "source": [
    "lr.decision_function(X_test)"
   ]
  },
  {
   "cell_type": "code",
   "execution_count": 51,
   "metadata": {},
   "outputs": [
    {
     "name": "stdout",
     "output_type": "stream",
     "text": [
      "0.9987809934152473\n"
     ]
    }
   ],
   "source": [
    "# 이진 분류일 경우 predict_proba, decision_function 결과 사용 가능\n",
    "# 다중 분류일 경우 predict_proba만 사용 가능 + multi_class 분류 방식 지정 필수\n",
    "# print(roc_auc_score(y_test, lr.decision_function(X_test), multi_class='ovr')) # 여긴 다중분류라 사용 불가\n",
    "print(roc_auc_score(y_test, lr.predict_proba(X_test), multi_class='ovr')) # roc auc curve : 0과 1 사이 매핑, ovr"
   ]
  },
  {
   "cell_type": "code",
   "execution_count": 59,
   "metadata": {},
   "outputs": [
    {
     "name": "stdout",
     "output_type": "stream",
     "text": [
      "[0.95555556 0.94444444 0.95555556 0.96666667 0.98888889]\n"
     ]
    }
   ],
   "source": [
    "from sklearn.model_selection import cross_val_score\n",
    "scores = cross_val_score(lr, X_test, y_test, scoring='accuracy') # default = accuracy\n",
    "print(scores)\n",
    "# cross_val_score에서 다중 분류일 경우 scoring은 'accuracy'만 지원\n",
    "# scores = cross_val_score(lr, X_test, y_test, scoring='roc_auc') # 사용 불가\n",
    "# print(scores)"
   ]
  },
  {
   "cell_type": "code",
   "execution_count": null,
   "metadata": {},
   "outputs": [],
   "source": []
  }
 ],
 "metadata": {
  "kernelspec": {
   "display_name": "Python 3.6.10 64-bit ('hoseo': conda)",
   "language": "python",
   "name": "python361064bithoseoconda78849c8c42504bfc91e9e5131e728d2c"
  },
  "language_info": {
   "codemirror_mode": {
    "name": "ipython",
    "version": 3
   },
   "file_extension": ".py",
   "mimetype": "text/x-python",
   "name": "python",
   "nbconvert_exporter": "python",
   "pygments_lexer": "ipython3",
   "version": "3.6.10"
  }
 },
 "nbformat": 4,
 "nbformat_minor": 4
}

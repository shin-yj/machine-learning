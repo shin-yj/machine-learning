{
 "cells": [
  {
   "cell_type": "code",
   "execution_count": 6,
   "metadata": {},
   "outputs": [],
   "source": [
    "import numpy as np\n",
    "import pandas as pd\n",
    "import matplotlib.pyplot as plt\n",
    "\n",
    "import mglearn\n",
    "\n",
    "from sklearn.linear_model import LinearRegression, Ridge, Lasso\n",
    "from sklearn.model_selection import train_test_split"
   ]
  },
  {
   "cell_type": "code",
   "execution_count": 8,
   "metadata": {},
   "outputs": [
    {
     "data": {
      "text/plain": [
       "(45, 1)"
      ]
     },
     "execution_count": 8,
     "metadata": {},
     "output_type": "execute_result"
    }
   ],
   "source": [
    "X,y = mglearn.datasets.make_wave(n_samples=60) # make sample data\n",
    "X_train, X_test, y_train, y_test = train_test_split(X, y, random_state=38)\n",
    "\n",
    "X_train.shape # y=w1x1과 같음 # x값이 45행 1열"
   ]
  },
  {
   "cell_type": "code",
   "execution_count": 9,
   "metadata": {},
   "outputs": [
    {
     "data": {
      "text/plain": [
       "LinearRegression()"
      ]
     },
     "execution_count": 9,
     "metadata": {},
     "output_type": "execute_result"
    }
   ],
   "source": [
    "lr = LinearRegression()\n",
    "lr.fit(X_train, y_train) # 훈련을 통해 weight 찾기"
   ]
  },
  {
   "cell_type": "code",
   "execution_count": 12,
   "metadata": {},
   "outputs": [
    {
     "data": {
      "text/plain": [
       "(array([0.44842545]), -0.0701871909360514)"
      ]
     },
     "execution_count": 12,
     "metadata": {},
     "output_type": "execute_result"
    }
   ],
   "source": [
    "lr.coef_, lr.intercept_  # w값(가중치값), 절편 # y = lr.coef_*x1 + lr.intercept_ # _ = 학습을 통해 만들어진 값"
   ]
  },
  {
   "cell_type": "code",
   "execution_count": 54,
   "metadata": {},
   "outputs": [
    {
     "name": "stdout",
     "output_type": "stream",
     "text": [
      "[-35.19417586 -34.7075221  -41.64138291 -34.7075221  -27.32847797\n",
      "   6.8594321   -2.54595963 -34.28735465 -34.4340217  -33.76768378\n",
      " -27.83387467   3.68902796 -34.7875355  -34.70751005 -34.7075221\n",
      " -34.60820925 -34.7075221  -34.72324947 -34.64986095 -34.69527948\n",
      " -34.69357133 -34.64524693 -34.72737184 -34.4261864  -34.73031891\n",
      " -34.69844194 -34.7075221  -34.7075221  -34.7075221  -34.7075221\n",
      " -34.7075221  -34.7075221  -34.7075221  -34.7075221  -34.7075221\n",
      " -34.7075221  -34.7075221  -34.7075221  -34.51027116 -34.7075221\n",
      " -34.60997556 -32.19137383 -34.26585083 -34.29795881 -34.78072515\n",
      " -34.70819451 -34.85703885 -32.25792875 -34.80072808 -34.7075221\n",
      " -34.7075221  -34.7075221  -34.7075221  -34.7075221  -34.7075221\n",
      " -34.7075221  -34.7075221  -34.7075221  -34.7075221  -35.82319115\n",
      " -36.40510963 -35.29269647 -32.63806199 -35.03266343 -34.55940154\n",
      " -41.8936001  -37.12238344 -34.32971123 -18.94337537 -60.78403486\n",
      " -36.86506737 -35.95833564 -35.1063997  -42.88705634 -42.33837957\n",
      " -34.74371848 -35.6596265  -34.72595388 -32.16745197 -34.97832633\n",
      " -34.42677274 -46.92359053 -37.2573674  -33.6446317  -34.70617285\n",
      " -34.76684715 -36.82719282 -39.56925295 -34.53535729 -35.20383307\n",
      " -34.62147984 -36.19046857 -31.58553903 -34.89787512 -34.70973944\n",
      " -34.49489177 -35.55890785 -34.72733013 -33.68068958 -28.7910941\n",
      " -34.54229014 -39.73648364 -34.49845385 -34.52158992] 37.9\n",
      "35.24198473440385 37.9\n"
     ]
    }
   ],
   "source": [
    "# print(X_train[0])\n",
    "print(X_train[0] * lr.coef_ + lr.intercept_, y_train[0]) # 예측값, 실제값\n",
    "print(lr.predict(X_train[:2])[0], y_train[0]) # 예측값, 실제값"
   ]
  },
  {
   "cell_type": "code",
   "execution_count": 55,
   "metadata": {},
   "outputs": [
    {
     "data": {
      "text/plain": [
       "(0.9448313975211591, 0.7758378393351623)"
      ]
     },
     "execution_count": 55,
     "metadata": {},
     "output_type": "execute_result"
    }
   ],
   "source": [
    "lr.score(X_train, y_train), lr.score(X_test, y_test) # 훈련 데이터의 score, 테스트 데이터의 score -> 오차가 많은 상태"
   ]
  },
  {
   "cell_type": "code",
   "execution_count": null,
   "metadata": {},
   "outputs": [],
   "source": [
    "#Linear Regression"
   ]
  },
  {
   "cell_type": "code",
   "execution_count": 56,
   "metadata": {},
   "outputs": [
    {
     "data": {
      "text/plain": [
       "(506, 104)"
      ]
     },
     "execution_count": 56,
     "metadata": {},
     "output_type": "execute_result"
    }
   ],
   "source": [
    "X, y = mglearn.datasets.load_extended_boston()\n",
    "X_train, X_test, y_train, y_test = train_test_split(X, y, random_state = 42)\n",
    "X.shape # x가 104개 -> w도 104개여야 한다."
   ]
  },
  {
   "cell_type": "code",
   "execution_count": 57,
   "metadata": {},
   "outputs": [
    {
     "data": {
      "text/plain": [
       "LinearRegression()"
      ]
     },
     "execution_count": 57,
     "metadata": {},
     "output_type": "execute_result"
    }
   ],
   "source": [
    "lr = LinearRegression()\n",
    "lr.fit(X_train, y_train)"
   ]
  },
  {
   "cell_type": "code",
   "execution_count": 58,
   "metadata": {},
   "outputs": [
    {
     "data": {
      "text/plain": [
       "(104,)"
      ]
     },
     "execution_count": 58,
     "metadata": {},
     "output_type": "execute_result"
    }
   ],
   "source": [
    "lr.coef_.shape # 가중치 104개"
   ]
  },
  {
   "cell_type": "code",
   "execution_count": 59,
   "metadata": {},
   "outputs": [
    {
     "data": {
      "text/plain": [
       "(0.9448313975211591, 0.7758378393351623)"
      ]
     },
     "execution_count": 59,
     "metadata": {},
     "output_type": "execute_result"
    }
   ],
   "source": [
    "lr.score(X_train, y_train), lr.score(X_test, y_test) # 완성도에 차이 -> 1이 최적이므로 트레인 성능 많이 높아짐. test는 낮음 -> 과대적합. # 어떻게 하면 줄일 수 있는지 생각 -> 수식은 테스트로"
   ]
  },
  {
   "cell_type": "code",
   "execution_count": 147,
   "metadata": {},
   "outputs": [
    {
     "data": {
      "text/plain": [
       "(0.5114002512219655, 0.49182837290627046)"
      ]
     },
     "execution_count": 147,
     "metadata": {},
     "output_type": "execute_result"
    }
   ],
   "source": [
    "#Ridge\n",
    "rlr = Ridge(alpha=0.1)\n",
    "rlr.fit(X_train, y_train)\n",
    "rlr.score(X_train, y_train), rlr.score(X_test, y_test)"
   ]
  },
  {
   "cell_type": "code",
   "execution_count": 99,
   "metadata": {},
   "outputs": [
    {
     "data": {
      "text/plain": [
       "104"
      ]
     },
     "execution_count": 99,
     "metadata": {},
     "output_type": "execute_result"
    }
   ],
   "source": [
    "(rlr.coef_ != 0).sum()"
   ]
  },
  {
   "cell_type": "code",
   "execution_count": 88,
   "metadata": {},
   "outputs": [
    {
     "data": {
      "image/png": "[encoded data removed]",
      "text/plain": [
       "<Figure size 432x288 with 1 Axes>"
      ]
     },
     "metadata": {
      "needs_background": "light"
     },
     "output_type": "display_data"
    }
   ],
   "source": [
    "rlr10 = Ridge(alpha=10)  # 값 크면 민감도 커짐 -> 테스트 데이터 설명력 낮아지므로 w값 튀지 않게 조절기(alpha)로 줄여줘야 한다.\n",
    "rlr10.fit(X_train, y_train)\n",
    "\n",
    "\n",
    "rlr1 = Ridge() \n",
    "rlr1.fit(X_train, y_train)\n",
    "\n",
    "\n",
    "rlr01 = Ridge(alpha=0.1)\n",
    "rlr01.fit(X_train, y_train)\n",
    "\n",
    "plt.plot(rlr10.coef_, '^') # w의 범위가 넓음\n",
    "plt.plot(rlr1.coef_, 's')\n",
    "plt.plot(rlr01.coef_, 'v') # 파란색, w가 좁혀지니 y의 민감도 떨어짐.\n",
    "\n",
    "plt.show()"
   ]
  },
  {
   "cell_type": "code",
   "execution_count": 89,
   "metadata": {},
   "outputs": [
    {
     "data": {
      "text/plain": [
       "[<matplotlib.lines.Line2D at 0x2353b80a8d0>]"
      ]
     },
     "execution_count": 89,
     "metadata": {},
     "output_type": "execute_result"
    },
    {
     "data": {
      "image/png": "[encoded data removed]",
      "text/plain": [
       "<Figure size 432x288 with 1 Axes>"
      ]
     },
     "metadata": {
      "needs_background": "light"
     },
     "output_type": "display_data"
    }
   ],
   "source": [
    "plt.plot(rlr01.coef_, 'v')"
   ]
  },
  {
   "cell_type": "code",
   "execution_count": 91,
   "metadata": {},
   "outputs": [
    {
     "data": {
      "text/plain": [
       "(0.9327758606898219, 0.8180643704626334)"
      ]
     },
     "execution_count": 91,
     "metadata": {},
     "output_type": "execute_result"
    }
   ],
   "source": [
    "#라쏘\n",
    "llr = Lasso(alpha=0.001, max_iter=100000) # 1일 경우 과소적합 # 반복회수\n",
    "llr.fit(X_train, y_train)\n",
    "llr.score(X_train, y_train), llr.score(X_test, y_test)"
   ]
  },
  {
   "cell_type": "code",
   "execution_count": 96,
   "metadata": {},
   "outputs": [
    {
     "data": {
      "text/plain": [
       "73"
      ]
     },
     "execution_count": 96,
     "metadata": {},
     "output_type": "execute_result"
    }
   ],
   "source": [
    "(llr.coef_ != 0).sum() # 0이 아닌 것이 73개\n",
    "# llr.coef_.shape"
   ]
  },
  {
   "cell_type": "code",
   "execution_count": 209,
   "metadata": {},
   "outputs": [
    {
     "name": "stdout",
     "output_type": "stream",
     "text": [
      "Collecting statsmodels\n",
      "  Downloading statsmodels-0.11.1-cp36-none-win_amd64.whl (8.2 MB)\n",
      "Collecting patsy>=0.5\n",
      "  Downloading patsy-0.5.1-py2.py3-none-any.whl (231 kB)\n",
      "Requirement already satisfied: numpy>=1.14 in c:\\programdata\\miniconda3\\envs\\hoseo\\lib\\site-packages (from statsmodels) (1.18.4)\n",
      "Requirement already satisfied: pandas>=0.21 in c:\\programdata\\miniconda3\\envs\\hoseo\\lib\\site-packages (from statsmodels) (1.0.4)\n",
      "Requirement already satisfied: scipy>=1.0 in c:\\programdata\\miniconda3\\envs\\hoseo\\lib\\site-packages (from statsmodels) (1.5.0)\n",
      "Requirement already satisfied: six in c:\\programdata\\miniconda3\\envs\\hoseo\\lib\\site-packages (from patsy>=0.5->statsmodels) (1.15.0)\n",
      "Requirement already satisfied: pytz>=2017.2 in c:\\programdata\\miniconda3\\envs\\hoseo\\lib\\site-packages (from pandas>=0.21->statsmodels) (2020.1)\n",
      "Requirement already satisfied: python-dateutil>=2.6.1 in c:\\programdata\\miniconda3\\envs\\hoseo\\lib\\site-packages (from pandas>=0.21->statsmodels) (2.8.1)\n",
      "Installing collected packages: patsy, statsmodels\n",
      "Successfully installed patsy-0.5.1 statsmodels-0.11.1\n"
     ]
    }
   ],
   "source": [
    "# !pip install statsmodels # 통계 분석 패키지"
   ]
  },
  {
   "cell_type": "code",
   "execution_count": 213,
   "metadata": {},
   "outputs": [],
   "source": [
    "import numpy as np\n",
    "import pandas as pd # 엑셀과 같은 표를 나타내는 시각화 도구\n",
    "import matplotlib.pyplot as plt\n",
    "import seaborn as sns\n",
    "import statsmodels.api as sm # 통계 분석 패키지\n",
    "\n",
    "from sklearn.linear_model import LinearRegression,Ridge,Lasso\n",
    "from sklearn.datasets import load_diabetes\n",
    "from sklearn.model_selection import train_test_split"
   ]
  },
  {
   "cell_type": "code",
   "execution_count": 101,
   "metadata": {},
   "outputs": [],
   "source": [
    "# load diabetes 함수를 이용해서 당뇨병 데이터 준비\n",
    "# 선형 회귀 알고리즘을 사용해서 최적 모델을 만드세요"
   ]
  },
  {
   "cell_type": "code",
   "execution_count": 168,
   "metadata": {},
   "outputs": [],
   "source": [
    "\n",
    "diabetes = load_diabetes()\n",
    "X = diabetes['data']\n",
    "y = diabetes['target']\n",
    "X_train, X_test, y_train, y_test = train_test_split(X, y, random_state = 42)"
   ]
  },
  {
   "cell_type": "code",
   "execution_count": 159,
   "metadata": {},
   "outputs": [
    {
     "data": {
      "text/plain": [
       "LinearRegression()"
      ]
     },
     "execution_count": 159,
     "metadata": {},
     "output_type": "execute_result"
    }
   ],
   "source": [
    "lr=LinearRegression()\n",
    "lr.fit(X_train, y_train)"
   ]
  },
  {
   "cell_type": "code",
   "execution_count": 160,
   "metadata": {},
   "outputs": [
    {
     "data": {
      "text/plain": [
       "(array([  47.74657117, -241.99180361,  531.96856896,  381.56529922,\n",
       "        -918.49020552,  508.25147385,  116.94040498,  269.48508571,\n",
       "         695.8062205 ,   26.32343144]),\n",
       " 151.66516982689936)"
      ]
     },
     "execution_count": 160,
     "metadata": {},
     "output_type": "execute_result"
    }
   ],
   "source": [
    "lr.coef_, lr.intercept_"
   ]
  },
  {
   "cell_type": "code",
   "execution_count": 161,
   "metadata": {},
   "outputs": [
    {
     "name": "stdout",
     "output_type": "stream",
     "text": [
      "[151.40186874 162.46807996 174.16509388 170.5203414  129.09405881\n",
      " 139.53800165 160.36688827 141.02229216 188.04191889 152.4000424 ] 166.0\n",
      "204.0320577068288 166.0\n"
     ]
    }
   ],
   "source": [
    "print(X_train[0] * lr.coef_ + lr.intercept_, y_train[0])\n",
    "print(lr.predict(X_train[:2])[0], y_train[0])"
   ]
  },
  {
   "cell_type": "code",
   "execution_count": 162,
   "metadata": {},
   "outputs": [
    {
     "data": {
      "text/plain": [
       "(10,)"
      ]
     },
     "execution_count": 162,
     "metadata": {},
     "output_type": "execute_result"
    }
   ],
   "source": [
    "lr.score(X_train, y_train), lr.score(X_test, y_test) # 과소적합 상태\n",
    "lr.coef_.shape # 가중치 10개"
   ]
  },
  {
   "cell_type": "code",
   "execution_count": 163,
   "metadata": {},
   "outputs": [],
   "source": [
    "X_train, X_test, y_train, y_test = train_test_split(X, y, random_state=42)"
   ]
  },
  {
   "cell_type": "code",
   "execution_count": 164,
   "metadata": {},
   "outputs": [
    {
     "data": {
      "text/plain": [
       "(0.5172943115585344, 0.4870604290667029)"
      ]
     },
     "execution_count": 164,
     "metadata": {},
     "output_type": "execute_result"
    }
   ],
   "source": [
    "rlr=Ridge(alpha=0.01)\n",
    "rlr.fit(X_train, y_train)\n",
    "rlr.score(X_train, y_train), rlr.score(X_test, y_test)"
   ]
  },
  {
   "cell_type": "code",
   "execution_count": 165,
   "metadata": {},
   "outputs": [
    {
     "data": {
      "text/plain": [
       "[<matplotlib.lines.Line2D at 0x2353ba335c0>]"
      ]
     },
     "execution_count": 165,
     "metadata": {},
     "output_type": "execute_result"
    },
    {
     "data": {
      "image/png": "[encoded data removed]",
      "text/plain": [
       "<Figure size 432x288 with 1 Axes>"
      ]
     },
     "metadata": {
      "needs_background": "light"
     },
     "output_type": "display_data"
    }
   ],
   "source": [
    "plt.plot(rlr.coef_, '^')"
   ]
  },
  {
   "cell_type": "code",
   "execution_count": 166,
   "metadata": {},
   "outputs": [
    {
     "data": {
      "text/plain": [
       "(0.517666513166295, 0.48803832998064045)"
      ]
     },
     "execution_count": 166,
     "metadata": {},
     "output_type": "execute_result"
    }
   ],
   "source": [
    "#라쏘\n",
    "llr=Lasso(alpha=0.01)\n",
    "llr.fit(X_train, y_train)\n",
    "llr.score(X_train, y_train), llr.score(X_test, y_test)"
   ]
  },
  {
   "cell_type": "code",
   "execution_count": 169,
   "metadata": {},
   "outputs": [],
   "source": [
    "# 선생님\n",
    "diabetes = load_diabetes()\n",
    "X = diabetes['data']\n",
    "y = diabetes['target']"
   ]
  },
  {
   "cell_type": "code",
   "execution_count": 171,
   "metadata": {},
   "outputs": [
    {
     "data": {
      "text/plain": [
       "array([151.,  75., 141., 206., 135.])"
      ]
     },
     "execution_count": 171,
     "metadata": {},
     "output_type": "execute_result"
    }
   ],
   "source": [
    "diabetes.keys()\n",
    "diabetes.target[:5] # target은 연속형 값 (회귀 모델에 적용)"
   ]
  },
  {
   "cell_type": "code",
   "execution_count": 173,
   "metadata": {},
   "outputs": [],
   "source": [
    "X_train, X_test, y_train, y_test = train_test_split(X,y,random_state=42)"
   ]
  },
  {
   "cell_type": "code",
   "execution_count": 174,
   "metadata": {},
   "outputs": [
    {
     "data": {
      "text/plain": [
       "(0.5190348343200994, 0.48490866359058005)"
      ]
     },
     "execution_count": 174,
     "metadata": {},
     "output_type": "execute_result"
    }
   ],
   "source": [
    "lr =LinearRegression()\n",
    "lr.fit(X_train, y_train)\n",
    "lr.score(X_train, y_train), lr.score(X_test, y_test)"
   ]
  },
  {
   "cell_type": "code",
   "execution_count": 179,
   "metadata": {},
   "outputs": [
    {
     "data": {
      "text/plain": [
       "(0.5114002512219655, 0.49182837290627046)"
      ]
     },
     "execution_count": 179,
     "metadata": {},
     "output_type": "execute_result"
    }
   ],
   "source": [
    "rlr = Ridge(alpha=0.1) # default는 1 # 크게 움직임 x -> 데이터에 문제 \n",
    "rlr.fit(X_train, y_train)\n",
    "rlr.score(X_train, y_train), rlr.score(X_test, y_test)"
   ]
  },
  {
   "cell_type": "code",
   "execution_count": 198,
   "metadata": {},
   "outputs": [
    {
     "data": {
      "text/plain": [
       "(0.517666513166295, 0.48803832998064045)"
      ]
     },
     "execution_count": 198,
     "metadata": {},
     "output_type": "execute_result"
    }
   ],
   "source": [
    "llr = Lasso(alpha=0.01) # default는 1 # 크게 움직임 x -> 데이터에 문제 \n",
    "llr.fit(X_train, y_train)\n",
    "llr.score(X_train, y_train), llr.score(X_test, y_test)"
   ]
  },
  {
   "cell_type": "code",
   "execution_count": 199,
   "metadata": {},
   "outputs": [
    {
     "data": {
      "text/plain": [
       "((10,), 10)"
      ]
     },
     "execution_count": 199,
     "metadata": {},
     "output_type": "execute_result"
    }
   ],
   "source": [
    "llr.coef_.shape, (llr.coef_ != 0).sum() # 0.1일때 전체 속성 다 사용 "
   ]
  },
  {
   "cell_type": "code",
   "execution_count": 202,
   "metadata": {},
   "outputs": [
    {
     "data": {
      "text/html": [
       "<div>\n",
       "<style scoped>\n",
       "    .dataframe tbody tr th:only-of-type {\n",
       "        vertical-align: middle;\n",
       "    }\n",
       "\n",
       "    .dataframe tbody tr th {\n",
       "        vertical-align: top;\n",
       "    }\n",
       "\n",
       "    .dataframe thead th {\n",
       "        text-align: right;\n",
       "    }\n",
       "</style>\n",
       "<table border=\"1\" class=\"dataframe\">\n",
       "  <thead>\n",
       "    <tr style=\"text-align: right;\">\n",
       "      <th></th>\n",
       "      <th>age</th>\n",
       "      <th>sex</th>\n",
       "      <th>bmi</th>\n",
       "      <th>bp</th>\n",
       "      <th>s1</th>\n",
       "      <th>s2</th>\n",
       "      <th>s3</th>\n",
       "      <th>s4</th>\n",
       "      <th>s5</th>\n",
       "      <th>s6</th>\n",
       "      <th>target</th>\n",
       "    </tr>\n",
       "  </thead>\n",
       "  <tbody>\n",
       "    <tr>\n",
       "      <th>0</th>\n",
       "      <td>0.038076</td>\n",
       "      <td>0.050680</td>\n",
       "      <td>0.061696</td>\n",
       "      <td>0.021872</td>\n",
       "      <td>-0.044223</td>\n",
       "      <td>-0.034821</td>\n",
       "      <td>-0.043401</td>\n",
       "      <td>-0.002592</td>\n",
       "      <td>0.019908</td>\n",
       "      <td>-0.017646</td>\n",
       "      <td>151.0</td>\n",
       "    </tr>\n",
       "    <tr>\n",
       "      <th>1</th>\n",
       "      <td>-0.001882</td>\n",
       "      <td>-0.044642</td>\n",
       "      <td>-0.051474</td>\n",
       "      <td>-0.026328</td>\n",
       "      <td>-0.008449</td>\n",
       "      <td>-0.019163</td>\n",
       "      <td>0.074412</td>\n",
       "      <td>-0.039493</td>\n",
       "      <td>-0.068330</td>\n",
       "      <td>-0.092204</td>\n",
       "      <td>75.0</td>\n",
       "    </tr>\n",
       "    <tr>\n",
       "      <th>2</th>\n",
       "      <td>0.085299</td>\n",
       "      <td>0.050680</td>\n",
       "      <td>0.044451</td>\n",
       "      <td>-0.005671</td>\n",
       "      <td>-0.045599</td>\n",
       "      <td>-0.034194</td>\n",
       "      <td>-0.032356</td>\n",
       "      <td>-0.002592</td>\n",
       "      <td>0.002864</td>\n",
       "      <td>-0.025930</td>\n",
       "      <td>141.0</td>\n",
       "    </tr>\n",
       "    <tr>\n",
       "      <th>3</th>\n",
       "      <td>-0.089063</td>\n",
       "      <td>-0.044642</td>\n",
       "      <td>-0.011595</td>\n",
       "      <td>-0.036656</td>\n",
       "      <td>0.012191</td>\n",
       "      <td>0.024991</td>\n",
       "      <td>-0.036038</td>\n",
       "      <td>0.034309</td>\n",
       "      <td>0.022692</td>\n",
       "      <td>-0.009362</td>\n",
       "      <td>206.0</td>\n",
       "    </tr>\n",
       "    <tr>\n",
       "      <th>4</th>\n",
       "      <td>0.005383</td>\n",
       "      <td>-0.044642</td>\n",
       "      <td>-0.036385</td>\n",
       "      <td>0.021872</td>\n",
       "      <td>0.003935</td>\n",
       "      <td>0.015596</td>\n",
       "      <td>0.008142</td>\n",
       "      <td>-0.002592</td>\n",
       "      <td>-0.031991</td>\n",
       "      <td>-0.046641</td>\n",
       "      <td>135.0</td>\n",
       "    </tr>\n",
       "  </tbody>\n",
       "</table>\n",
       "</div>"
      ],
      "text/plain": [
       "        age       sex       bmi        bp        s1        s2        s3  \\\n",
       "0  0.038076  0.050680  0.061696  0.021872 -0.044223 -0.034821 -0.043401   \n",
       "1 -0.001882 -0.044642 -0.051474 -0.026328 -0.008449 -0.019163  0.074412   \n",
       "2  0.085299  0.050680  0.044451 -0.005671 -0.045599 -0.034194 -0.032356   \n",
       "3 -0.089063 -0.044642 -0.011595 -0.036656  0.012191  0.024991 -0.036038   \n",
       "4  0.005383 -0.044642 -0.036385  0.021872  0.003935  0.015596  0.008142   \n",
       "\n",
       "         s4        s5        s6  target  \n",
       "0 -0.002592  0.019908 -0.017646   151.0  \n",
       "1 -0.039493 -0.068330 -0.092204    75.0  \n",
       "2 -0.002592  0.002864 -0.025930   141.0  \n",
       "3  0.034309  0.022692 -0.009362   206.0  \n",
       "4 -0.002592 -0.031991 -0.046641   135.0  "
      ]
     },
     "execution_count": 202,
     "metadata": {},
     "output_type": "execute_result"
    }
   ],
   "source": [
    "diabetes_df = pd.DataFrame(X, columns=diabetes['feature_names'])\n",
    "diabetes_df['target'] = diabetes['target']\n",
    "diabetes_df.head()"
   ]
  },
  {
   "cell_type": "code",
   "execution_count": 208,
   "metadata": {},
   "outputs": [
    {
     "data": {
      "image/png": "[encoded data removed]",
      "text/plain": [
       "<Figure size 720x720 with 2 Axes>"
      ]
     },
     "metadata": {
      "needs_background": "light"
     },
     "output_type": "display_data"
    }
   ],
   "source": [
    "# diabetes_df.corr()\n",
    "plt.figure(figsize=(10,10))\n",
    "sns.heatmap(diabetes_df.corr(), cbar=True, annot=True, fmt='.2f', xticklabels=diabetes_df.columns)\n",
    "plt.show()"
   ]
  },
  {
   "cell_type": "code",
   "execution_count": null,
   "metadata": {},
   "outputs": [],
   "source": []
  },
  {
   "cell_type": "code",
   "execution_count": 217,
   "metadata": {},
   "outputs": [],
   "source": [
    "xt = sm.add_constant(X_train)\n",
    "model = sm.OLS(y_train, xt) # 선형회귀 모델 만들기\n",
    "model2 = model.fit()"
   ]
  },
  {
   "cell_type": "code",
   "execution_count": 219,
   "metadata": {},
   "outputs": [
    {
     "name": "stdout",
     "output_type": "stream",
     "text": [
      "                            OLS Regression Results                            \n",
      "==============================================================================\n",
      "Dep. Variable:                      y   R-squared:                       0.519\n",
      "Model:                            OLS   Adj. R-squared:                  0.504\n",
      "Method:                 Least Squares   F-statistic:                     34.53\n",
      "Date:                Mon, 27 Jul 2020   Prob (F-statistic):           2.97e-45\n",
      "Time:                        15:29:17   Log-Likelihood:                -1789.5\n",
      "No. Observations:                 331   AIC:                             3601.\n",
      "Df Residuals:                     320   BIC:                             3643.\n",
      "Df Model:                          10                                         \n",
      "Covariance Type:            nonrobust                                         \n",
      "==============================================================================\n",
      "                 coef    std err          t      P>|t|      [0.025      0.975]\n",
      "------------------------------------------------------------------------------\n",
      "const        151.6652      3.023     50.162      0.000     145.717     157.614\n",
      "x1            47.7466     71.642      0.666      0.506     -93.202     188.695\n",
      "x2          -241.9918     70.762     -3.420      0.001    -381.210    -102.774\n",
      "x3           531.9686     79.049      6.730      0.000     376.447     687.490\n",
      "x4           381.5653     75.058      5.084      0.000     233.897     529.234\n",
      "x5          -918.4902    462.125     -1.988      0.048   -1827.677      -9.303\n",
      "x6           508.2515    372.857      1.363      0.174    -225.310    1241.813\n",
      "x7           116.9404    238.509      0.490      0.624    -352.303     586.184\n",
      "x8           269.4851    190.628      1.414      0.158    -105.558     644.528\n",
      "x9           695.8062    196.699      3.537      0.000     308.820    1082.793\n",
      "x10           26.3234     76.855      0.343      0.732    -124.882     177.529\n",
      "==============================================================================\n",
      "Omnibus:                        2.208   Durbin-Watson:                   1.774\n",
      "Prob(Omnibus):                  0.331   Jarque-Bera (JB):                1.934\n",
      "Skew:                           0.078   Prob(JB):                        0.380\n",
      "Kurtosis:                       2.659   Cond. No.                         215.\n",
      "==============================================================================\n",
      "\n",
      "Warnings:\n",
      "[1] Standard Errors assume that the covariance matrix of the errors is correctly specified.\n"
     ]
    }
   ],
   "source": [
    "print(model2.summary())"
   ]
  },
  {
   "cell_type": "code",
   "execution_count": null,
   "metadata": {},
   "outputs": [],
   "source": []
  }
 ],
 "metadata": {
  "kernelspec": {
   "display_name": "Python 3.6.10 64-bit ('hoseo': conda)",
   "language": "python",
   "name": "python361064bithoseoconda78849c8c42504bfc91e9e5131e728d2c"
  },
  "language_info": {
   "codemirror_mode": {
    "name": "ipython",
    "version": 3
   },
   "file_extension": ".py",
   "mimetype": "text/x-python",
   "name": "python",
   "nbconvert_exporter": "python",
   "pygments_lexer": "ipython3",
   "version": "3.6.10"
  }
 },
 "nbformat": 4,
 "nbformat_minor": 4
}
